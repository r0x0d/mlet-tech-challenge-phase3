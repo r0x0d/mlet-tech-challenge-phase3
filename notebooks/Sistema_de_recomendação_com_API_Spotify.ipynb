{
  "cells": [
    {
      "cell_type": "code",
      "execution_count": 1,
      "metadata": {
        "id": "ucebA2GxSg1L"
      },
      "outputs": [],
      "source": [
        "import matplotlib.pyplot as plt\n",
        "import numpy as np\n",
        "import pandas as pd\n",
        "\n",
        "from matplotlib.colors import ListedColormap\n",
        "from sklearn import linear_model, metrics\n",
        "from sklearn.datasets import make_circles, make_classification, make_moons\n",
        "from sklearn.discriminant_analysis import QuadraticDiscriminantAnalysis\n",
        "from sklearn.ensemble import AdaBoostClassifier, RandomForestClassifier\n",
        "from sklearn.gaussian_process import GaussianProcessClassifier\n",
        "from sklearn.gaussian_process.kernels import RBF\n",
        "from sklearn.inspection import DecisionBoundaryDisplay\n",
        "from sklearn.model_selection import train_test_split, StratifiedKFold, GridSearchCV, RandomizedSearchCV\n",
        "from sklearn.naive_bayes import GaussianNB\n",
        "from sklearn.neighbors import KNeighborsClassifier\n",
        "from sklearn.neural_network import MLPClassifier\n",
        "from sklearn.pipeline import make_pipeline\n",
        "from sklearn.preprocessing import StandardScaler, MinMaxScaler\n",
        "from sklearn.svm import SVC\n",
        "from sklearn.tree import DecisionTreeClassifier\n",
        "from sklearn.feature_selection import RFECV\n",
        "from sklearn.metrics import classification_report, confusion_matrix\n",
        "from sklearn.linear_model import LogisticRegression"
      ]
    },
    {
      "cell_type": "code",
      "execution_count": 2,
      "metadata": {
        "colab": {
          "base_uri": "https://localhost:8080/",
          "height": 295
        },
        "id": "aZxsvG-0Pi9O",
        "outputId": "1262f258-c7a0-4681-8b6d-127dee9d07c2"
      },
      "outputs": [
        {
          "output_type": "stream",
          "name": "stdout",
          "text": [
            "Drive already mounted at /content/drive; to attempt to forcibly remount, call drive.mount(\"/content/drive\", force_remount=True).\n"
          ]
        },
        {
          "output_type": "execute_result",
          "data": {
            "text/plain": [
              "   Unnamed: 0    artist_name                      track_name  popularity  \\\n",
              "0           1     Jason Mraz                93 Million Miles          50   \n",
              "1           2  Joshua Hyslop                Do Not Let Me Go          57   \n",
              "2           4   Andrew Belle                Sky's Still Blue          54   \n",
              "3           5  Chris Smither                   What They Say          48   \n",
              "4           6     Matt Wertz  Walking in a Winter Wonderland          48   \n",
              "\n",
              "   year     genre  danceability  energy  key  loudness  mode  speechiness  \\\n",
              "0  2012  acoustic         0.572   0.454    3   -10.286     1       0.0258   \n",
              "1  2012  acoustic         0.409   0.234    3   -13.711     1       0.0323   \n",
              "2  2012  acoustic         0.430   0.791    6    -5.419     0       0.0302   \n",
              "3  2012  acoustic         0.566   0.570    2    -6.420     1       0.0329   \n",
              "4  2012  acoustic         0.575   0.606    9    -8.197     1       0.0300   \n",
              "\n",
              "   acousticness  instrumentalness  liveness  valence    tempo  time_signature  \\\n",
              "0        0.4770          0.000014    0.0974    0.515  140.182               4   \n",
              "1        0.3380          0.000050    0.0895    0.145  139.832               4   \n",
              "2        0.0726          0.019300    0.1100    0.217  171.864               4   \n",
              "3        0.6880          0.000002    0.0943    0.960   83.403               4   \n",
              "4        0.0119          0.000000    0.0675    0.364  121.083               4   \n",
              "\n",
              "   duration_mins popularity_category  \n",
              "0       3.606450                Alto  \n",
              "1       2.649333                Alto  \n",
              "2       4.072000                Alto  \n",
              "3       2.770667               Baixo  \n",
              "4       2.538450               Baixo  "
            ],
            "text/html": [
              "\n",
              "  <div id=\"df-4afda5f3-54dd-4a1a-95a6-f23c3dd517ec\" class=\"colab-df-container\">\n",
              "    <div>\n",
              "<style scoped>\n",
              "    .dataframe tbody tr th:only-of-type {\n",
              "        vertical-align: middle;\n",
              "    }\n",
              "\n",
              "    .dataframe tbody tr th {\n",
              "        vertical-align: top;\n",
              "    }\n",
              "\n",
              "    .dataframe thead th {\n",
              "        text-align: right;\n",
              "    }\n",
              "</style>\n",
              "<table border=\"1\" class=\"dataframe\">\n",
              "  <thead>\n",
              "    <tr style=\"text-align: right;\">\n",
              "      <th></th>\n",
              "      <th>Unnamed: 0</th>\n",
              "      <th>artist_name</th>\n",
              "      <th>track_name</th>\n",
              "      <th>popularity</th>\n",
              "      <th>year</th>\n",
              "      <th>genre</th>\n",
              "      <th>danceability</th>\n",
              "      <th>energy</th>\n",
              "      <th>key</th>\n",
              "      <th>loudness</th>\n",
              "      <th>mode</th>\n",
              "      <th>speechiness</th>\n",
              "      <th>acousticness</th>\n",
              "      <th>instrumentalness</th>\n",
              "      <th>liveness</th>\n",
              "      <th>valence</th>\n",
              "      <th>tempo</th>\n",
              "      <th>time_signature</th>\n",
              "      <th>duration_mins</th>\n",
              "      <th>popularity_category</th>\n",
              "    </tr>\n",
              "  </thead>\n",
              "  <tbody>\n",
              "    <tr>\n",
              "      <th>0</th>\n",
              "      <td>1</td>\n",
              "      <td>Jason Mraz</td>\n",
              "      <td>93 Million Miles</td>\n",
              "      <td>50</td>\n",
              "      <td>2012</td>\n",
              "      <td>acoustic</td>\n",
              "      <td>0.572</td>\n",
              "      <td>0.454</td>\n",
              "      <td>3</td>\n",
              "      <td>-10.286</td>\n",
              "      <td>1</td>\n",
              "      <td>0.0258</td>\n",
              "      <td>0.4770</td>\n",
              "      <td>0.000014</td>\n",
              "      <td>0.0974</td>\n",
              "      <td>0.515</td>\n",
              "      <td>140.182</td>\n",
              "      <td>4</td>\n",
              "      <td>3.606450</td>\n",
              "      <td>Alto</td>\n",
              "    </tr>\n",
              "    <tr>\n",
              "      <th>1</th>\n",
              "      <td>2</td>\n",
              "      <td>Joshua Hyslop</td>\n",
              "      <td>Do Not Let Me Go</td>\n",
              "      <td>57</td>\n",
              "      <td>2012</td>\n",
              "      <td>acoustic</td>\n",
              "      <td>0.409</td>\n",
              "      <td>0.234</td>\n",
              "      <td>3</td>\n",
              "      <td>-13.711</td>\n",
              "      <td>1</td>\n",
              "      <td>0.0323</td>\n",
              "      <td>0.3380</td>\n",
              "      <td>0.000050</td>\n",
              "      <td>0.0895</td>\n",
              "      <td>0.145</td>\n",
              "      <td>139.832</td>\n",
              "      <td>4</td>\n",
              "      <td>2.649333</td>\n",
              "      <td>Alto</td>\n",
              "    </tr>\n",
              "    <tr>\n",
              "      <th>2</th>\n",
              "      <td>4</td>\n",
              "      <td>Andrew Belle</td>\n",
              "      <td>Sky's Still Blue</td>\n",
              "      <td>54</td>\n",
              "      <td>2012</td>\n",
              "      <td>acoustic</td>\n",
              "      <td>0.430</td>\n",
              "      <td>0.791</td>\n",
              "      <td>6</td>\n",
              "      <td>-5.419</td>\n",
              "      <td>0</td>\n",
              "      <td>0.0302</td>\n",
              "      <td>0.0726</td>\n",
              "      <td>0.019300</td>\n",
              "      <td>0.1100</td>\n",
              "      <td>0.217</td>\n",
              "      <td>171.864</td>\n",
              "      <td>4</td>\n",
              "      <td>4.072000</td>\n",
              "      <td>Alto</td>\n",
              "    </tr>\n",
              "    <tr>\n",
              "      <th>3</th>\n",
              "      <td>5</td>\n",
              "      <td>Chris Smither</td>\n",
              "      <td>What They Say</td>\n",
              "      <td>48</td>\n",
              "      <td>2012</td>\n",
              "      <td>acoustic</td>\n",
              "      <td>0.566</td>\n",
              "      <td>0.570</td>\n",
              "      <td>2</td>\n",
              "      <td>-6.420</td>\n",
              "      <td>1</td>\n",
              "      <td>0.0329</td>\n",
              "      <td>0.6880</td>\n",
              "      <td>0.000002</td>\n",
              "      <td>0.0943</td>\n",
              "      <td>0.960</td>\n",
              "      <td>83.403</td>\n",
              "      <td>4</td>\n",
              "      <td>2.770667</td>\n",
              "      <td>Baixo</td>\n",
              "    </tr>\n",
              "    <tr>\n",
              "      <th>4</th>\n",
              "      <td>6</td>\n",
              "      <td>Matt Wertz</td>\n",
              "      <td>Walking in a Winter Wonderland</td>\n",
              "      <td>48</td>\n",
              "      <td>2012</td>\n",
              "      <td>acoustic</td>\n",
              "      <td>0.575</td>\n",
              "      <td>0.606</td>\n",
              "      <td>9</td>\n",
              "      <td>-8.197</td>\n",
              "      <td>1</td>\n",
              "      <td>0.0300</td>\n",
              "      <td>0.0119</td>\n",
              "      <td>0.000000</td>\n",
              "      <td>0.0675</td>\n",
              "      <td>0.364</td>\n",
              "      <td>121.083</td>\n",
              "      <td>4</td>\n",
              "      <td>2.538450</td>\n",
              "      <td>Baixo</td>\n",
              "    </tr>\n",
              "  </tbody>\n",
              "</table>\n",
              "</div>\n",
              "    <div class=\"colab-df-buttons\">\n",
              "\n",
              "  <div class=\"colab-df-container\">\n",
              "    <button class=\"colab-df-convert\" onclick=\"convertToInteractive('df-4afda5f3-54dd-4a1a-95a6-f23c3dd517ec')\"\n",
              "            title=\"Convert this dataframe to an interactive table.\"\n",
              "            style=\"display:none;\">\n",
              "\n",
              "  <svg xmlns=\"http://www.w3.org/2000/svg\" height=\"24px\" viewBox=\"0 -960 960 960\">\n",
              "    <path d=\"M120-120v-720h720v720H120Zm60-500h600v-160H180v160Zm220 220h160v-160H400v160Zm0 220h160v-160H400v160ZM180-400h160v-160H180v160Zm440 0h160v-160H620v160ZM180-180h160v-160H180v160Zm440 0h160v-160H620v160Z\"/>\n",
              "  </svg>\n",
              "    </button>\n",
              "\n",
              "  <style>\n",
              "    .colab-df-container {\n",
              "      display:flex;\n",
              "      gap: 12px;\n",
              "    }\n",
              "\n",
              "    .colab-df-convert {\n",
              "      background-color: #E8F0FE;\n",
              "      border: none;\n",
              "      border-radius: 50%;\n",
              "      cursor: pointer;\n",
              "      display: none;\n",
              "      fill: #1967D2;\n",
              "      height: 32px;\n",
              "      padding: 0 0 0 0;\n",
              "      width: 32px;\n",
              "    }\n",
              "\n",
              "    .colab-df-convert:hover {\n",
              "      background-color: #E2EBFA;\n",
              "      box-shadow: 0px 1px 2px rgba(60, 64, 67, 0.3), 0px 1px 3px 1px rgba(60, 64, 67, 0.15);\n",
              "      fill: #174EA6;\n",
              "    }\n",
              "\n",
              "    .colab-df-buttons div {\n",
              "      margin-bottom: 4px;\n",
              "    }\n",
              "\n",
              "    [theme=dark] .colab-df-convert {\n",
              "      background-color: #3B4455;\n",
              "      fill: #D2E3FC;\n",
              "    }\n",
              "\n",
              "    [theme=dark] .colab-df-convert:hover {\n",
              "      background-color: #434B5C;\n",
              "      box-shadow: 0px 1px 3px 1px rgba(0, 0, 0, 0.15);\n",
              "      filter: drop-shadow(0px 1px 2px rgba(0, 0, 0, 0.3));\n",
              "      fill: #FFFFFF;\n",
              "    }\n",
              "  </style>\n",
              "\n",
              "    <script>\n",
              "      const buttonEl =\n",
              "        document.querySelector('#df-4afda5f3-54dd-4a1a-95a6-f23c3dd517ec button.colab-df-convert');\n",
              "      buttonEl.style.display =\n",
              "        google.colab.kernel.accessAllowed ? 'block' : 'none';\n",
              "\n",
              "      async function convertToInteractive(key) {\n",
              "        const element = document.querySelector('#df-4afda5f3-54dd-4a1a-95a6-f23c3dd517ec');\n",
              "        const dataTable =\n",
              "          await google.colab.kernel.invokeFunction('convertToInteractive',\n",
              "                                                    [key], {});\n",
              "        if (!dataTable) return;\n",
              "\n",
              "        const docLinkHtml = 'Like what you see? Visit the ' +\n",
              "          '<a target=\"_blank\" href=https://colab.research.google.com/notebooks/data_table.ipynb>data table notebook</a>'\n",
              "          + ' to learn more about interactive tables.';\n",
              "        element.innerHTML = '';\n",
              "        dataTable['output_type'] = 'display_data';\n",
              "        await google.colab.output.renderOutput(dataTable, element);\n",
              "        const docLink = document.createElement('div');\n",
              "        docLink.innerHTML = docLinkHtml;\n",
              "        element.appendChild(docLink);\n",
              "      }\n",
              "    </script>\n",
              "  </div>\n",
              "\n",
              "\n",
              "<div id=\"df-5c96dbb9-392e-4453-bc52-0868fe248635\">\n",
              "  <button class=\"colab-df-quickchart\" onclick=\"quickchart('df-5c96dbb9-392e-4453-bc52-0868fe248635')\"\n",
              "            title=\"Suggest charts\"\n",
              "            style=\"display:none;\">\n",
              "\n",
              "<svg xmlns=\"http://www.w3.org/2000/svg\" height=\"24px\"viewBox=\"0 0 24 24\"\n",
              "     width=\"24px\">\n",
              "    <g>\n",
              "        <path d=\"M19 3H5c-1.1 0-2 .9-2 2v14c0 1.1.9 2 2 2h14c1.1 0 2-.9 2-2V5c0-1.1-.9-2-2-2zM9 17H7v-7h2v7zm4 0h-2V7h2v10zm4 0h-2v-4h2v4z\"/>\n",
              "    </g>\n",
              "</svg>\n",
              "  </button>\n",
              "\n",
              "<style>\n",
              "  .colab-df-quickchart {\n",
              "      --bg-color: #E8F0FE;\n",
              "      --fill-color: #1967D2;\n",
              "      --hover-bg-color: #E2EBFA;\n",
              "      --hover-fill-color: #174EA6;\n",
              "      --disabled-fill-color: #AAA;\n",
              "      --disabled-bg-color: #DDD;\n",
              "  }\n",
              "\n",
              "  [theme=dark] .colab-df-quickchart {\n",
              "      --bg-color: #3B4455;\n",
              "      --fill-color: #D2E3FC;\n",
              "      --hover-bg-color: #434B5C;\n",
              "      --hover-fill-color: #FFFFFF;\n",
              "      --disabled-bg-color: #3B4455;\n",
              "      --disabled-fill-color: #666;\n",
              "  }\n",
              "\n",
              "  .colab-df-quickchart {\n",
              "    background-color: var(--bg-color);\n",
              "    border: none;\n",
              "    border-radius: 50%;\n",
              "    cursor: pointer;\n",
              "    display: none;\n",
              "    fill: var(--fill-color);\n",
              "    height: 32px;\n",
              "    padding: 0;\n",
              "    width: 32px;\n",
              "  }\n",
              "\n",
              "  .colab-df-quickchart:hover {\n",
              "    background-color: var(--hover-bg-color);\n",
              "    box-shadow: 0 1px 2px rgba(60, 64, 67, 0.3), 0 1px 3px 1px rgba(60, 64, 67, 0.15);\n",
              "    fill: var(--button-hover-fill-color);\n",
              "  }\n",
              "\n",
              "  .colab-df-quickchart-complete:disabled,\n",
              "  .colab-df-quickchart-complete:disabled:hover {\n",
              "    background-color: var(--disabled-bg-color);\n",
              "    fill: var(--disabled-fill-color);\n",
              "    box-shadow: none;\n",
              "  }\n",
              "\n",
              "  .colab-df-spinner {\n",
              "    border: 2px solid var(--fill-color);\n",
              "    border-color: transparent;\n",
              "    border-bottom-color: var(--fill-color);\n",
              "    animation:\n",
              "      spin 1s steps(1) infinite;\n",
              "  }\n",
              "\n",
              "  @keyframes spin {\n",
              "    0% {\n",
              "      border-color: transparent;\n",
              "      border-bottom-color: var(--fill-color);\n",
              "      border-left-color: var(--fill-color);\n",
              "    }\n",
              "    20% {\n",
              "      border-color: transparent;\n",
              "      border-left-color: var(--fill-color);\n",
              "      border-top-color: var(--fill-color);\n",
              "    }\n",
              "    30% {\n",
              "      border-color: transparent;\n",
              "      border-left-color: var(--fill-color);\n",
              "      border-top-color: var(--fill-color);\n",
              "      border-right-color: var(--fill-color);\n",
              "    }\n",
              "    40% {\n",
              "      border-color: transparent;\n",
              "      border-right-color: var(--fill-color);\n",
              "      border-top-color: var(--fill-color);\n",
              "    }\n",
              "    60% {\n",
              "      border-color: transparent;\n",
              "      border-right-color: var(--fill-color);\n",
              "    }\n",
              "    80% {\n",
              "      border-color: transparent;\n",
              "      border-right-color: var(--fill-color);\n",
              "      border-bottom-color: var(--fill-color);\n",
              "    }\n",
              "    90% {\n",
              "      border-color: transparent;\n",
              "      border-bottom-color: var(--fill-color);\n",
              "    }\n",
              "  }\n",
              "</style>\n",
              "\n",
              "  <script>\n",
              "    async function quickchart(key) {\n",
              "      const quickchartButtonEl =\n",
              "        document.querySelector('#' + key + ' button');\n",
              "      quickchartButtonEl.disabled = true;  // To prevent multiple clicks.\n",
              "      quickchartButtonEl.classList.add('colab-df-spinner');\n",
              "      try {\n",
              "        const charts = await google.colab.kernel.invokeFunction(\n",
              "            'suggestCharts', [key], {});\n",
              "      } catch (error) {\n",
              "        console.error('Error during call to suggestCharts:', error);\n",
              "      }\n",
              "      quickchartButtonEl.classList.remove('colab-df-spinner');\n",
              "      quickchartButtonEl.classList.add('colab-df-quickchart-complete');\n",
              "    }\n",
              "    (() => {\n",
              "      let quickchartButtonEl =\n",
              "        document.querySelector('#df-5c96dbb9-392e-4453-bc52-0868fe248635 button');\n",
              "      quickchartButtonEl.style.display =\n",
              "        google.colab.kernel.accessAllowed ? 'block' : 'none';\n",
              "    })();\n",
              "  </script>\n",
              "</div>\n",
              "\n",
              "    </div>\n",
              "  </div>\n"
            ],
            "application/vnd.google.colaboratory.intrinsic+json": {
              "type": "dataframe",
              "variable_name": "dataset"
            }
          },
          "metadata": {},
          "execution_count": 2
        }
      ],
      "source": [
        "from google.colab import drive\n",
        "drive.mount('/content/drive')\n",
        "dataset = pd.read_csv('/content/drive/My Drive/spotify_data_limpo.csv', encoding='latin1')\n",
        "\n",
        "dataset.head()"
      ]
    },
    {
      "cell_type": "code",
      "execution_count": 3,
      "metadata": {
        "colab": {
          "base_uri": "https://localhost:8080/"
        },
        "id": "2rrrXe9gP4vZ",
        "outputId": "60db6c17-0f0f-45b2-9db1-1d721883fca9"
      },
      "outputs": [
        {
          "output_type": "stream",
          "name": "stdout",
          "text": [
            "<class 'pandas.core.frame.DataFrame'>\n",
            "RangeIndex: 648913 entries, 0 to 648912\n",
            "Data columns (total 20 columns):\n",
            " #   Column               Non-Null Count   Dtype  \n",
            "---  ------               --------------   -----  \n",
            " 0   Unnamed: 0           648913 non-null  int64  \n",
            " 1   artist_name          648911 non-null  object \n",
            " 2   track_name           648912 non-null  object \n",
            " 3   popularity           648913 non-null  int64  \n",
            " 4   year                 648913 non-null  int64  \n",
            " 5   genre                648913 non-null  object \n",
            " 6   danceability         648913 non-null  float64\n",
            " 7   energy               648913 non-null  float64\n",
            " 8   key                  648913 non-null  int64  \n",
            " 9   loudness             648913 non-null  float64\n",
            " 10  mode                 648913 non-null  int64  \n",
            " 11  speechiness          648913 non-null  float64\n",
            " 12  acousticness         648913 non-null  float64\n",
            " 13  instrumentalness     648913 non-null  float64\n",
            " 14  liveness             648913 non-null  float64\n",
            " 15  valence              648913 non-null  float64\n",
            " 16  tempo                648913 non-null  float64\n",
            " 17  time_signature       648913 non-null  int64  \n",
            " 18  duration_mins        648913 non-null  float64\n",
            " 19  popularity_category  648913 non-null  object \n",
            "dtypes: float64(10), int64(6), object(4)\n",
            "memory usage: 99.0+ MB\n"
          ]
        }
      ],
      "source": [
        "dataset.info()"
      ]
    },
    {
      "cell_type": "code",
      "execution_count": 4,
      "metadata": {
        "colab": {
          "base_uri": "https://localhost:8080/",
          "height": 229
        },
        "id": "fadtLgOgP8Bp",
        "outputId": "2cbd8e85-88c8-40c8-ea59-a2a75904a185"
      },
      "outputs": [
        {
          "output_type": "execute_result",
          "data": {
            "text/plain": [
              "count     648913\n",
              "unique         2\n",
              "top        Baixo\n",
              "freq      611736\n",
              "Name: popularity_category, dtype: object"
            ],
            "text/html": [
              "<div>\n",
              "<style scoped>\n",
              "    .dataframe tbody tr th:only-of-type {\n",
              "        vertical-align: middle;\n",
              "    }\n",
              "\n",
              "    .dataframe tbody tr th {\n",
              "        vertical-align: top;\n",
              "    }\n",
              "\n",
              "    .dataframe thead th {\n",
              "        text-align: right;\n",
              "    }\n",
              "</style>\n",
              "<table border=\"1\" class=\"dataframe\">\n",
              "  <thead>\n",
              "    <tr style=\"text-align: right;\">\n",
              "      <th></th>\n",
              "      <th>popularity_category</th>\n",
              "    </tr>\n",
              "  </thead>\n",
              "  <tbody>\n",
              "    <tr>\n",
              "      <th>count</th>\n",
              "      <td>648913</td>\n",
              "    </tr>\n",
              "    <tr>\n",
              "      <th>unique</th>\n",
              "      <td>2</td>\n",
              "    </tr>\n",
              "    <tr>\n",
              "      <th>top</th>\n",
              "      <td>Baixo</td>\n",
              "    </tr>\n",
              "    <tr>\n",
              "      <th>freq</th>\n",
              "      <td>611736</td>\n",
              "    </tr>\n",
              "  </tbody>\n",
              "</table>\n",
              "</div><br><label><b>dtype:</b> object</label>"
            ]
          },
          "metadata": {},
          "execution_count": 4
        }
      ],
      "source": [
        "# Definindo os valores de X e Y para o nosso modelo\n",
        "\n",
        "X = dataset[['year', 'danceability', 'energy', 'key', 'loudness', 'mode', 'speechiness', 'acousticness', 'instrumentalness', 'liveness', 'valence', 'tempo', 'time_signature', 'duration_mins']].select_dtypes(include='number')\n",
        "Y = dataset['popularity_category']\n",
        "\n",
        "Y.describe()\n"
      ]
    },
    {
      "cell_type": "code",
      "execution_count": 5,
      "metadata": {
        "colab": {
          "base_uri": "https://localhost:8080/"
        },
        "id": "2EsTA0sFQrc9",
        "outputId": "c5d67c9f-987c-407f-f686-c940fed2609a"
      },
      "outputs": [
        {
          "output_type": "stream",
          "name": "stdout",
          "text": [
            "454239\n"
          ]
        }
      ],
      "source": [
        "# Normalizando o dataset de treino e realizando a separação entre dados de teste e dados de treino.\n",
        "\n",
        "scaler = StandardScaler()\n",
        "model_X = scaler.fit(X)\n",
        "X_scaled = model_X.transform(X)\n",
        "\n",
        "X_train, X_test, Y_train, Y_test = train_test_split(X_scaled, Y, random_state=42, test_size=0.3, shuffle=True)\n",
        "\n",
        "print(len(Y_train))"
      ]
    },
    {
      "cell_type": "markdown",
      "metadata": {
        "id": "6168Upj3Rocd"
      },
      "source": [
        "# Testando diferentes algoritmos"
      ]
    },
    {
      "cell_type": "code",
      "execution_count": 6,
      "metadata": {
        "colab": {
          "base_uri": "https://localhost:8080/"
        },
        "id": "0ceXuv9zmEQR",
        "outputId": "1dbe0edf-45d3-4bb8-8206-6f4da49e8692"
      },
      "outputs": [
        {
          "output_type": "stream",
          "name": "stdout",
          "text": [
            "2\n"
          ]
        }
      ],
      "source": [
        "# Define o máximo de CPUS (Jobs) a serem usados nos modelos abaixo.\n",
        "import multiprocessing\n",
        "n_cpus = multiprocessing.cpu_count()\n",
        "print(n_cpus)"
      ]
    },
    {
      "cell_type": "code",
      "source": [
        "# Mantém um dicionário de modelos e acurácia entre eles\n",
        "model_with_accuracy = {}"
      ],
      "metadata": {
        "id": "ELWmfDfOtt5d"
      },
      "execution_count": 7,
      "outputs": []
    },
    {
      "cell_type": "markdown",
      "metadata": {
        "id": "JU3OGTYvRdIE"
      },
      "source": [
        "## Regressão logística"
      ]
    },
    {
      "cell_type": "code",
      "execution_count": 8,
      "metadata": {
        "colab": {
          "base_uri": "https://localhost:8080/"
        },
        "id": "EzX9NUsSRf4z",
        "outputId": "3eea77db-3abf-40b4-d624-9a26c11f390b"
      },
      "outputs": [
        {
          "output_type": "stream",
          "name": "stdout",
          "text": [
            "Acurácia do algoritmo de Regressão Logística (%) 94.33309019180784\n",
            "Confusion matrix [[     9  11005]\n",
            " [    27 183633]]\n",
            "Classification report               precision    recall  f1-score   support\n",
            "\n",
            "        Alto       0.25      0.00      0.00     11014\n",
            "       Baixo       0.94      1.00      0.97    183660\n",
            "\n",
            "    accuracy                           0.94    194674\n",
            "   macro avg       0.60      0.50      0.49    194674\n",
            "weighted avg       0.90      0.94      0.92    194674\n",
            "\n"
          ]
        }
      ],
      "source": [
        "lg = linear_model.LogisticRegression(solver='lbfgs', max_iter=1000, n_jobs=n_cpus)\n",
        "lg.fit(X_train, Y_train)\n",
        "\n",
        "prediction = lg.predict(X_test)\n",
        "\n",
        "accuracy = metrics.accuracy_score(Y_test, prediction) * 100\n",
        "print(\"Acurácia do algoritmo de Regressão Logística (%)\", accuracy)\n",
        "print(\"Confusion matrix\", confusion_matrix(Y_test, prediction))\n",
        "print(\"Classification report\", classification_report(Y_test, prediction))\n",
        "\n",
        "model_with_accuracy['lg'] = {'model': lg, 'accuracy': accuracy}"
      ]
    },
    {
      "cell_type": "markdown",
      "metadata": {
        "id": "-JCkIzPMSu_6"
      },
      "source": [
        "## KNN"
      ]
    },
    {
      "cell_type": "code",
      "execution_count": 9,
      "metadata": {
        "colab": {
          "base_uri": "https://localhost:8080/"
        },
        "id": "NTEbGTyASwjr",
        "outputId": "17cbef2f-409d-43b7-8437-ecfc6609146d"
      },
      "outputs": [
        {
          "output_type": "stream",
          "name": "stdout",
          "text": [
            "Acurácia do algoritmo de Regressão Logística (%) 93.12440284783793\n",
            "Confusion matrix [[   888  10126]\n",
            " [  3259 180401]]\n",
            "Classification report               precision    recall  f1-score   support\n",
            "\n",
            "        Alto       0.21      0.08      0.12     11014\n",
            "       Baixo       0.95      0.98      0.96    183660\n",
            "\n",
            "    accuracy                           0.93    194674\n",
            "   macro avg       0.58      0.53      0.54    194674\n",
            "weighted avg       0.91      0.93      0.92    194674\n",
            "\n"
          ]
        }
      ],
      "source": [
        "knn = KNeighborsClassifier(n_neighbors=3, n_jobs=n_cpus)\n",
        "knn.fit(X_train, Y_train)\n",
        "prediction = knn.predict(X_test)\n",
        "\n",
        "accuracy = metrics.accuracy_score(Y_test, prediction) * 100\n",
        "print(\"Acurácia do algoritmo de Regressão Logística (%)\", accuracy)\n",
        "print(\"Confusion matrix\", confusion_matrix(Y_test, prediction))\n",
        "print(\"Classification report\", classification_report(Y_test, prediction))\n",
        "\n",
        "model_with_accuracy['knn'] =  {'model': knn, 'accuracy': accuracy}"
      ]
    },
    {
      "cell_type": "markdown",
      "metadata": {
        "id": "lMA1CwdETo_G"
      },
      "source": [
        "## Random Forest"
      ]
    },
    {
      "cell_type": "code",
      "execution_count": null,
      "metadata": {
        "id": "x9VH5KkCToRy"
      },
      "outputs": [],
      "source": [
        "rfc = RandomForestClassifier(n_estimators=100, n_jobs=n_cpus)\n",
        "rfc.fit(X_train, Y_train)\n",
        "\n",
        "prediction = rfc.predict(X_test)\n",
        "\n",
        "accuracy = metrics.accuracy_score(Y_test, prediction) * 100\n",
        "print(\"Acurácia do algoritmo de Regressão Logística (%)\", accuracy)\n",
        "print(\"Confusion matrix\", confusion_matrix(Y_test, prediction))\n",
        "print(\"Classification report\", classification_report(Y_test, prediction))\n",
        "\n",
        "model_with_accuracy['rfc'] =  {'model': rfc, 'accuracy': accuracy}"
      ]
    },
    {
      "cell_type": "markdown",
      "metadata": {
        "id": "8E3YjF8dTzuA"
      },
      "source": [
        "## Árvore de Decisão"
      ]
    },
    {
      "cell_type": "code",
      "execution_count": 19,
      "metadata": {
        "id": "OCzZnu96T1HU",
        "colab": {
          "base_uri": "https://localhost:8080/"
        },
        "outputId": "f4a9cfb3-3972-4eea-c56f-4d866eaca2ce"
      },
      "outputs": [
        {
          "output_type": "stream",
          "name": "stdout",
          "text": [
            "Acurácia do algoritmo de Regressão Logística (%) 94.34233641883354\n",
            "Confusion matrix [[     0  11014]\n",
            " [     0 183660]]\n"
          ]
        },
        {
          "output_type": "stream",
          "name": "stderr",
          "text": [
            "/usr/local/lib/python3.10/dist-packages/sklearn/metrics/_classification.py:1471: UndefinedMetricWarning: Precision and F-score are ill-defined and being set to 0.0 in labels with no predicted samples. Use `zero_division` parameter to control this behavior.\n",
            "  _warn_prf(average, modifier, msg_start, len(result))\n",
            "/usr/local/lib/python3.10/dist-packages/sklearn/metrics/_classification.py:1471: UndefinedMetricWarning: Precision and F-score are ill-defined and being set to 0.0 in labels with no predicted samples. Use `zero_division` parameter to control this behavior.\n",
            "  _warn_prf(average, modifier, msg_start, len(result))\n"
          ]
        },
        {
          "output_type": "stream",
          "name": "stdout",
          "text": [
            "Classification report               precision    recall  f1-score   support\n",
            "\n",
            "        Alto       0.00      0.00      0.00     11014\n",
            "       Baixo       0.94      1.00      0.97    183660\n",
            "\n",
            "    accuracy                           0.94    194674\n",
            "   macro avg       0.47      0.50      0.49    194674\n",
            "weighted avg       0.89      0.94      0.92    194674\n",
            "\n"
          ]
        },
        {
          "output_type": "stream",
          "name": "stderr",
          "text": [
            "/usr/local/lib/python3.10/dist-packages/sklearn/metrics/_classification.py:1471: UndefinedMetricWarning: Precision and F-score are ill-defined and being set to 0.0 in labels with no predicted samples. Use `zero_division` parameter to control this behavior.\n",
            "  _warn_prf(average, modifier, msg_start, len(result))\n"
          ]
        }
      ],
      "source": [
        "dtc = DecisionTreeClassifier(random_state=42, max_depth=1)\n",
        "dtc.fit(X_train, Y_train)\n",
        "\n",
        "prediction = dtc.predict(X_test)\n",
        "\n",
        "accuracy = metrics.accuracy_score(Y_test, prediction) * 100\n",
        "print(\"Acurácia do algoritmo de Regressão Logística (%)\", accuracy)\n",
        "print(\"Confusion matrix\", confusion_matrix(Y_test, prediction))\n",
        "print(\"Classification report\", classification_report(Y_test, prediction))\n",
        "\n",
        "model_with_accuracy['dtc'] =  {'model': dtc, 'accuracy': accuracy}"
      ]
    },
    {
      "cell_type": "markdown",
      "metadata": {
        "id": "GHhV14LkoBuh"
      },
      "source": [
        "## Salva o modelo final em um arquivo .pkl"
      ]
    },
    {
      "cell_type": "code",
      "execution_count": 20,
      "metadata": {
        "id": "tP9UJ0t9X0lC",
        "colab": {
          "base_uri": "https://localhost:8080/"
        },
        "outputId": "a0fb5373-3b9d-4e98-c7a0-61e9c4b52e28"
      },
      "outputs": [
        {
          "output_type": "stream",
          "name": "stdout",
          "text": [
            "DecisionTreeClassifier(max_depth=1, random_state=42) 94.34233641883354\n"
          ]
        }
      ],
      "source": [
        "max_accuracy = 0\n",
        "for m in model_with_accuracy:\n",
        "  if model_with_accuracy[m]['accuracy'] > max_accuracy:\n",
        "\n",
        "    max_accuracy = model_with_accuracy[m]['accuracy']\n",
        "    # Salvar o modelo que melhor deu resultado para fazer o dump com pickle.\n",
        "    model = model_with_accuracy[m]['model']\n",
        "\n",
        "print(model, max_accuracy)"
      ]
    },
    {
      "cell_type": "code",
      "execution_count": 22,
      "metadata": {
        "id": "PXUaAB4XXT2X"
      },
      "outputs": [],
      "source": [
        "# Salvando o modelo treinado final.\n",
        "\n",
        "# Here you can replace pickle with joblib or cloudpickle\n",
        "from pickle import dump\n",
        "with open(\"model.pkl\", \"wb\") as f:\n",
        "    dump(model, f, protocol=5)"
      ]
    }
  ],
  "metadata": {
    "colab": {
      "provenance": []
    },
    "kernelspec": {
      "display_name": "Python 3",
      "name": "python3"
    },
    "language_info": {
      "name": "python"
    }
  },
  "nbformat": 4,
  "nbformat_minor": 0
}